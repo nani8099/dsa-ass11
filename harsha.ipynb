{
 "cells": [
  {
   "cell_type": "code",
   "execution_count": 1,
   "id": "5b1477b7",
   "metadata": {},
   "outputs": [
    {
     "name": "stdout",
     "output_type": "stream",
     "text": [
      "4  +  14  =  18\n",
      "6  +  12  =  18\n",
      "8  +  10  =  18\n"
     ]
    }
   ],
   "source": [
    "#Q1. Write a program to find all pairs of an integer array whose sum is equal to a given number?\n",
    "\n",
    "arr = [ 4, 6, 8, 10, 12, 14, 16 ]\n",
    "n = len(arr)\n",
    "num = 18\n",
    "for i in range(0, n): \n",
    "    for j in range(i+1, n):\n",
    "        if((arr[i]+arr[j])==num):\n",
    "            print(arr[i],\" + \",arr[j],\" = \",num)"
   ]
  },
  {
   "cell_type": "code",
   "execution_count": 2,
   "id": "64aeaaeb",
   "metadata": {},
   "outputs": [
    {
     "name": "stdout",
     "output_type": "stream",
     "text": [
      "[1, 2, 3, 4, 5, 6]\n",
      "Reversed list is\n",
      "[6, 5, 4, 3, 2, 1]\n"
     ]
    }
   ],
   "source": [
    "#Q2. Write a program to reverse an array in place? In place means you cannot create a new array. You have to update the original array.\n",
    "\n",
    "def reverseList(A, start, end):\n",
    "    while start < end:\n",
    "        A[start], A[end] = A[end], A[start]\n",
    "        start += 1\n",
    "        end -= 1\n",
    "A = [1, 2, 3, 4, 5, 6]\n",
    "print(A)\n",
    "reverseList(A, 0, 5)\n",
    "print(\"Reversed list is\")\n",
    "print(A)"
   ]
  },
  {
   "cell_type": "code",
   "execution_count": 3,
   "id": "30fba4e1",
   "metadata": {},
   "outputs": [
    {
     "name": "stdout",
     "output_type": "stream",
     "text": [
      "How many numbers: 10\n",
      "Enter number: 1\n",
      "Enter number: 2\n",
      "Enter number: 46\n",
      "Enter number: 23\n",
      "Enter number: 8\n",
      "Enter number: 123\n",
      "Enter number: 565\n",
      "Enter number: 43\n",
      "Enter number: 546\n",
      "Enter number: 127\n",
      "Smallest number in the list is :   1\n"
     ]
    }
   ],
   "source": [
    " #Write a program to find the smallest number using a stack\n",
    "\n",
    "First = []\n",
    "num = int(input('How many numbers: '))\n",
    "\n",
    "for n in range(num):\n",
    "    numbers = int(input('Enter number: '))\n",
    "    First.append(numbers)\n",
    "    \n",
    "print(\"Smallest number in the list is :  \", min(First))"
   ]
  },
  {
   "cell_type": "code",
   "execution_count": 4,
   "id": "34711739",
   "metadata": {},
   "outputs": [
    {
     "name": "stdout",
     "output_type": "stream",
     "text": [
      "Original Stack\n",
      "5\n",
      "4\n",
      "3\n",
      "2\n",
      "1\n",
      "\n",
      "Stack after Reversing\n",
      "1\n",
      "2\n",
      "3\n",
      "4\n",
      "5\n"
     ]
    }
   ],
   "source": [
    "#Write a program to reverse a stack\n",
    "\n",
    "class Stack:\n",
    "  \n",
    "    \n",
    "    def __init__(self):\n",
    "        self.Elements = []\n",
    "          \n",
    "  \n",
    "    def push(self, value):\n",
    "        self.Elements.append(value)\n",
    "        \n",
    "    \n",
    "    def pop(self):\n",
    "        return self.Elements.pop()\n",
    "      \n",
    "  \n",
    "    def empty(self):\n",
    "        return self.Elements == []\n",
    "      \n",
    "  \n",
    "    def show(self):\n",
    "        for value in reversed(self.Elements):\n",
    "            print(value)\n",
    "  \n",
    "# Insert_Bottom() insert value at bottom\n",
    "def BottomInsert(s, value):\n",
    "    \n",
    "   \n",
    "    if s.empty(): \n",
    "          \n",
    "       \n",
    "        s.push(value)\n",
    "          \n",
    "   \n",
    "    else:\n",
    "        popped = s.pop()\n",
    "        BottomInsert(s, value)\n",
    "        s.push(popped)\n",
    "  \n",
    "# Reverse() reverse the stack\n",
    "def Reverse(s):\n",
    "    if s.empty():\n",
    "        pass\n",
    "    else:\n",
    "        popped = s.pop()\n",
    "        Reverse(s)\n",
    "        BottomInsert(s, popped)\n",
    "  \n",
    "  \n",
    "\n",
    "stk = Stack()\n",
    "  \n",
    "stk.push(1)\n",
    "stk.push(2)\n",
    "stk.push(3)\n",
    "stk.push(4)\n",
    "stk.push(5)\n",
    "  \n",
    "print(\"Original Stack\")\n",
    "stk.show()\n",
    "  \n",
    "print(\"\\nStack after Reversing\")\n",
    "Reverse(stk)\n",
    "stk.show()\n",
    "        \n",
    "\n",
    "  \n"
   ]
  },
  {
   "cell_type": "code",
   "execution_count": 5,
   "id": "3216d65c",
   "metadata": {},
   "outputs": [
    {
     "name": "stdout",
     "output_type": "stream",
     "text": [
      "Balanced\n"
     ]
    }
   ],
   "source": [
    " #Write a program to check if all the brackets are closed in a given code snippet\n",
    "\n",
    "def areBracketsBalanced(expr):\n",
    "    stack = []\n",
    "\n",
    "    for char in expr:\n",
    "        if char in [\"(\", \"{\", \"[\"]:\n",
    "\n",
    "            stack.append(char)\n",
    "        else:\n",
    "\n",
    "            if not stack:\n",
    "                return False\n",
    "            current_char = stack.pop()\n",
    "            if current_char == '(':\n",
    "                if char != \")\":\n",
    "                    return False\n",
    "            if current_char == '{':\n",
    "                if char != \"}\":\n",
    "                    return False\n",
    "            if current_char == '[':\n",
    "                if char != \"]\":\n",
    "                    return False\n",
    "\n",
    "    if stack:\n",
    "        return False\n",
    "    return True\n",
    "\n",
    "if __name__ == \"__main__\":\n",
    "    expr = \"{()}[]\"\n",
    "\n",
    "    if areBracketsBalanced(expr):\n",
    "        print(\"Balanced\")\n",
    "    else:\n",
    "        print(\"Not Balanced\")"
   ]
  },
  {
   "cell_type": "code",
   "execution_count": 6,
   "id": "08e5b6ae",
   "metadata": {},
   "outputs": [
    {
     "name": "stdout",
     "output_type": "stream",
     "text": [
      "((A-(B/C))*((A/K)-L))\n"
     ]
    }
   ],
   "source": [
    "#Write a program to convert prefix expression to infix expression.\n",
    "\n",
    "def prefixToInfix(prefix):\n",
    "    stack = []\n",
    "     \n",
    "  \n",
    "    i = len(prefix) - 1\n",
    "    while i >= 0:\n",
    "        if not isOperator(prefix[i]):\n",
    "             \n",
    "   \n",
    "            stack.append(prefix[i])\n",
    "            i -= 1\n",
    "        else:\n",
    "           \n",
    "            \n",
    "            str = \"(\" + stack.pop() + prefix[i] + stack.pop() + \")\"\n",
    "            stack.append(str)\n",
    "            i -= 1\n",
    "     \n",
    "    return stack.pop()\n",
    " \n",
    "def isOperator(c):\n",
    "    if c == \"*\" or c == \"+\" or c == \"-\" or c == \"/\" or c == \"^\" or c == \"(\" or c == \")\":\n",
    "        return True\n",
    "    else:\n",
    "        return False\n",
    " \n",
    "# Driver code\n",
    "if __name__==\"__main__\":\n",
    "    str = \"*-A/BC-/AKL\"\n",
    "    print(prefixToInfix(str))"
   ]
  },
  {
   "cell_type": "code",
   "execution_count": 7,
   "id": "2e2d5b66",
   "metadata": {},
   "outputs": [
    {
     "name": "stdout",
     "output_type": "stream",
     "text": [
      "Move disk 1 from source A to destination C\n",
      "Move disk 2 from source A to destination B\n",
      "Move disk 1 from source C to destination B\n",
      "Move disk 3 from source A to destination C\n",
      "Move disk 1 from source B to destination A\n",
      "Move disk 2 from source B to destination C\n",
      "Move disk 1 from source A to destination C\n",
      "Move disk 4 from source A to destination B\n",
      "Move disk 1 from source C to destination B\n",
      "Move disk 2 from source C to destination A\n",
      "Move disk 1 from source B to destination A\n",
      "Move disk 3 from source C to destination B\n",
      "Move disk 1 from source A to destination C\n",
      "Move disk 2 from source A to destination B\n",
      "Move disk 1 from source C to destination B\n"
     ]
    }
   ],
   "source": [
    "#Q5. Read about the Tower of Hanoi algorithm. Write a program to implement it.\n",
    "\n",
    "\n",
    "def TowerOfHanoi(n , source, destination, auxiliary):\n",
    "    if n==1:\n",
    "        print (\"Move disk 1 from source\",source,\"to destination\",destination)\n",
    "        return\n",
    "    TowerOfHanoi(n-1, source, auxiliary, destination)\n",
    "    print (\"Move disk\",n,\"from source\",source,\"to destination\",destination)\n",
    "    TowerOfHanoi(n-1, auxiliary, destination, source)\n",
    "         \n",
    "\n",
    "n = 4\n",
    "TowerOfHanoi(n,'A','B','C')"
   ]
  },
  {
   "cell_type": "code",
   "execution_count": 8,
   "id": "232af5d5",
   "metadata": {},
   "outputs": [
    {
     "name": "stdout",
     "output_type": "stream",
     "text": [
      "First non-repeating character is f\n"
     ]
    }
   ],
   "source": [
    "# Write a program to print the first non-repeated character from a string?\n",
    "\n",
    "\n",
    "NO_OF_CHARS = 256\n",
    " \n",
    "\n",
    "def getCharCountArray(string):\n",
    "    count = [0] * NO_OF_CHARS\n",
    "    for i in string:\n",
    "        count[ord(i)]+= 1\n",
    "    return count\n",
    " \n",
    "def firstNonRepeating(string):\n",
    "    count = getCharCountArray(string)\n",
    "    index = -1\n",
    "    k = 0\n",
    " \n",
    "    for i in string:\n",
    "        if count[ord(i)] == 1:\n",
    "            index = k\n",
    "            break\n",
    "        k += 1\n",
    " \n",
    "    return index\n",
    " \n",
    "\n",
    "string = \"geeksforgeeks\"\n",
    "index = firstNonRepeating(string)\n",
    "if index == 1:\n",
    "    print (\"Either all characters are repeating or string is empty\")\n",
    "else:\n",
    "    print (\"First non-repeating character is\" , string[index])\n"
   ]
  },
  {
   "cell_type": "code",
   "execution_count": 9,
   "id": "b4d3efcf",
   "metadata": {},
   "outputs": [
    {
     "name": "stdout",
     "output_type": "stream",
     "text": [
      "Strings are rotations of each other\n"
     ]
    }
   ],
   "source": [
    "#Write a program to check if two strings are a rotation of each other?\n",
    "\n",
    "def areRotations(string1, string2):\n",
    "    size1 = len(string1)\n",
    "    size2 = len(string2)\n",
    "    temp = ''\n",
    " \n",
    "    \n",
    "    if size1 != size2:\n",
    "        return 0\n",
    " \n",
    "   \n",
    "    temp = string1 + string1\n",
    " \n",
    "  \n",
    "    if (temp.count(string2)> 0):\n",
    "        return 1\n",
    "    else:\n",
    "        return 0\n",
    " \n",
    "\n",
    "string1 = \"AACD\"\n",
    "string2 = \"ACDA\"\n",
    " \n",
    "if areRotations(string1, string2):\n",
    "    print (\"Strings are rotations of each other\")\n",
    "else:\n",
    "    print (\"Strings are not rotations of each other\")"
   ]
  },
  {
   "cell_type": "code",
   "execution_count": null,
   "id": "b5faf25c",
   "metadata": {},
   "outputs": [],
   "source": []
  }
 ],
 "metadata": {
  "kernelspec": {
   "display_name": "Python 3 (ipykernel)",
   "language": "python",
   "name": "python3"
  },
  "language_info": {
   "codemirror_mode": {
    "name": "ipython",
    "version": 3
   },
   "file_extension": ".py",
   "mimetype": "text/x-python",
   "name": "python",
   "nbconvert_exporter": "python",
   "pygments_lexer": "ipython3",
   "version": "3.10.0"
  }
 },
 "nbformat": 4,
 "nbformat_minor": 5
}
